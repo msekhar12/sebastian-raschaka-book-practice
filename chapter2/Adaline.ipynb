{
 "cells": [
  {
   "cell_type": "code",
   "execution_count": 1,
   "id": "160409e1",
   "metadata": {},
   "outputs": [],
   "source": [
    "import pandas as pd\n",
    "import numpy as np\n",
    "import matplotlib.pyplot as plt"
   ]
  },
  {
   "cell_type": "code",
   "execution_count": 2,
   "id": "ffd2bb5c",
   "metadata": {},
   "outputs": [],
   "source": [
    "x1 = [3,4,3,4,5,1.5,1.5,2,3,2]\n",
    "x2 = [1,1,2,3,4,2,4,4,4.5,5]\n",
    "X = np.array(list(zip(x1, x2)))\n",
    "y = np.array([1,1,1,1,1,0,0,0,0,0])"
   ]
  },
  {
   "cell_type": "code",
   "execution_count": 3,
   "id": "deed736a",
   "metadata": {},
   "outputs": [
    {
     "data": {
      "text/plain": [
       "array([[3. , 1. ],\n",
       "       [4. , 1. ],\n",
       "       [3. , 2. ],\n",
       "       [4. , 3. ],\n",
       "       [5. , 4. ],\n",
       "       [1.5, 2. ],\n",
       "       [1.5, 4. ],\n",
       "       [2. , 4. ],\n",
       "       [3. , 4.5],\n",
       "       [2. , 5. ]])"
      ]
     },
     "execution_count": 3,
     "metadata": {},
     "output_type": "execute_result"
    }
   ],
   "source": [
    "X"
   ]
  },
  {
   "cell_type": "code",
   "execution_count": 6,
   "id": "67135129",
   "metadata": {},
   "outputs": [
    {
     "name": "stdout",
     "output_type": "stream",
     "text": [
      "[10.   11.5  12.5  16.5  20.5  10.25 15.25 16.   18.75 18.5 ]\n"
     ]
    }
   ],
   "source": [
    "# assume that we have a weight vector and bias:\n",
    "w = [1.5, 2.5]\n",
    "b = [3]\n",
    "\n",
    "z = X.dot(w) + b\n",
    "print(z)"
   ]
  },
  {
   "cell_type": "markdown",
   "id": "4d1b17c2",
   "metadata": {},
   "source": [
    "## Adaline\n",
    "\n",
    "\n",
    "$X$ is a dataset as follows:\n",
    "$$\n",
    "\\begin{equation*}\n",
    "X = \n",
    "\\begin{pmatrix}\n",
    "x_{1}^{(1)} & x_{2}^{(1)} & \\cdots & x_{m}^{(1)} \\\\\n",
    "x_{1}^{(2)} & x_{2}^{(2)} & \\cdots & x_{m}^{(2)} \\\\\n",
    "\\vdots  & \\vdots  & \\ddots & \\vdots  \\\\\n",
    "x_{1}^{(n)} & x_{2}^{(n)} & \\cdots & x_{m}^{(n)} \\\\\n",
    "\\end{pmatrix}\n",
    "\\end{equation*}\n",
    "$$\n",
    "Weight vector is defined as:\n",
    "$$\n",
    "\\begin{equation*}\n",
    "W = [w_1, w_2, ... w_m]\n",
    "\\end{equation*}\n",
    "$$\n",
    "\n",
    "$$z = X.W^T + b$$\n",
    "\n",
    "$prediction:$ If z >= 0.5 then 1 else 0\n",
    "\n",
    "$$W = W + \\Delta{W}$$\n",
    "$$b = b + \\Delta{b}$$\n",
    "\n",
    "$$\\Delta{w_{j}} = \\eta . \\frac{2}{n} \\Sigma_{i=1}^{n}(y^{(i)} - z^{(i)}).x_{j}$$\n",
    "$$\\Delta{b} = \\eta . \\frac{2}{n} \\Sigma_{i=1}^{n}(y^{(i)} - z^{(i)})$$\n",
    "\n",
    "**In Adaline:**\n",
    "1. We predict the output values using the $w_1.x_1 + w_2.x_2+...+w_m.x_m + b$ for all the input observations\n",
    "2. We consider all the predicted values to update each individual weight\n",
    "\n",
    "\n",
    "## Perceptron\n",
    "\n",
    "$X$ is a dataset as follows:\n",
    "$$\n",
    "\\begin{equation*}\n",
    "X = \n",
    "\\begin{pmatrix}\n",
    "x_{1}^{(1)} & x_{2}^{(1)} & \\cdots & x_{m}^{(1)} \\\\\n",
    "x_{1}^{(2)} & x_{2}^{(2)} & \\cdots & x_{m}^{(2)} \\\\\n",
    "\\vdots  & \\vdots  & \\ddots & \\vdots  \\\\\n",
    "x_{1}^{(n)} & x_{2}^{(n)} & \\cdots & x_{m}^{(n)} \\\\\n",
    "\\end{pmatrix}\n",
    "\\end{equation*}\n",
    "$$\n",
    "Weight vector is defined as:\n",
    "$$\n",
    "\\begin{equation*}\n",
    "W = [w_1, w_2, ... w_m]\n",
    "\\end{equation*}\n",
    "$$\n",
    "\n",
    "$$z = X.W^T + b$$\n",
    "\n",
    "$Prediction: \\hat{y} = 1 \\text{ when z >= 0 else 0}$ \n",
    "\n",
    "$$w_j = w_j + \\Delta{w_j}$$\n",
    "$$b = b + \\Delta{b}$$\n",
    "\n",
    "$$\\Delta{w_{j}} = \\eta (y^{(i)} - \\hat{y^{(i)}}).x^{(i)}_{j}$$\n",
    "$$\\Delta{b} = \\eta (y^{(i)} - \\hat{y^{(i)}}).$$\n",
    "\n",
    "**In Perceptron**\n",
    "1. We predict the output values using the $w_1.x_1 + w_2.x_2+...+w_m.x_m + b$ for each observation and update the all the weights. \n",
    "2. Then we predict for the next observation, and then update all the weights before moving to the next observation"
   ]
  },
  {
   "cell_type": "code",
   "execution_count": 156,
   "id": "d830048d",
   "metadata": {},
   "outputs": [],
   "source": [
    "# Adaline implementation\n",
    "\n",
    "class Adaline:\n",
    "    def __init__(self, epochs=10000, eta=0.0001, random_state=42):\n",
    "        self.epochs = epochs\n",
    "        self.eta = eta\n",
    "        self.random_state = random_state\n",
    "    \n",
    "    def fit(self, X, y):\n",
    "        rgen = np.random.RandomState(self.random_state)\n",
    "        self.w_ = rgen.normal(loc = 0.0, scale = 0.01, size = X.shape[1])\n",
    "        self.b_ = rgen.normal(loc = 0.0, scale = 0.01, size = 1)[0]\n",
    "        self.errors_ = []\n",
    "        \n",
    "        for _ in range(self.epochs):\n",
    "            z = self.net_input(X)\n",
    "            adjust = (y - z)\n",
    "            w_delta = X.T.dot(adjust) * self.eta * 2.0 / X.shape[0]\n",
    "            self.w_ = self.w_ + w_delta\n",
    "            b_delta = adjust * self.eta * 2.0 / X.shape[0]\n",
    "            self.b_ + self.b_ + b_delta \n",
    "            self.errors_.append((adjust**2).mean())\n",
    "#             print(f'Adjusted Weights: {self.w_}. Adjusted Bias: {self.b_}')\n",
    "#             print(f\"Average error: {np.mean(self.errors_)}\")\n",
    "\n",
    "        \n",
    "    def net_input(self, X):\n",
    "        return X.dot(self.w_) + self.b_\n",
    "    \n",
    "    def predict(self, X):\n",
    "# In text book they used >= 0.5. For my toy dataset, if the data is standardized, and using >= 0, we get 100% \n",
    "# correct prediction.\n",
    "#        return np.where(self.net_input(X) >= 0.5, 1, 0)\n",
    "        return np.where(self.net_input(X) >= 0, 1, 0) \n",
    "    \n",
    "    def print_model(self):\n",
    "        s = str(self.b_)\n",
    "        for i, w in enumerate(self.w_,start=1):\n",
    "            if w >= 0:\n",
    "                s = s + f' + {w}x{i}'\n",
    "            else:\n",
    "                s = s + f' - {abs(w)}x{i}'\n",
    "        print(s)\n",
    "    \n"
   ]
  },
  {
   "cell_type": "code",
   "execution_count": 154,
   "id": "dcb6c9d3",
   "metadata": {},
   "outputs": [
    {
     "name": "stdout",
     "output_type": "stream",
     "text": [
      "0.006476885381006925 + 0.33091077892505877x1 - 0.15485000964776668x2\n",
      "0.006476885381006925 + 0.31978375275574633x1 - 0.2223512068769132x2\n"
     ]
    }
   ],
   "source": [
    "a = Adaline()\n",
    "a.fit(X,y)\n",
    "a.print_model()\n",
    "\n",
    "a_std = Adaline()\n",
    "X_std = np.copy(X)\n",
    "X_std[:,0] = (X[:,0] - X[:,0].mean()) / X[:,0].std()\n",
    "X_std[:,1] = (X[:,1] - X[:,1].mean()) / X[:,1].std()\n",
    "a_std.fit(X_std,y)\n",
    "a_std.print_model()"
   ]
  },
  {
   "cell_type": "code",
   "execution_count": 147,
   "id": "bbf14d89",
   "metadata": {},
   "outputs": [
    {
     "data": {
      "text/plain": [
       "array([1, 1, 1, 1, 1, 1, 0, 1, 1, 0])"
      ]
     },
     "execution_count": 147,
     "metadata": {},
     "output_type": "execute_result"
    }
   ],
   "source": [
    "a.predict(X)"
   ]
  },
  {
   "cell_type": "code",
   "execution_count": 148,
   "id": "89b4663f",
   "metadata": {},
   "outputs": [
    {
     "data": {
      "text/plain": [
       "array([1, 1, 1, 1, 1, 0, 0, 0, 0, 0])"
      ]
     },
     "execution_count": 148,
     "metadata": {},
     "output_type": "execute_result"
    }
   ],
   "source": [
    "a.predict(X_std)"
   ]
  },
  {
   "cell_type": "code",
   "execution_count": 149,
   "id": "2b4c2cfe",
   "metadata": {},
   "outputs": [
    {
     "data": {
      "image/png": "[encoded data removed]",
      "text/plain": [
       "<Figure size 640x480 with 1 Axes>"
      ]
     },
     "metadata": {},
     "output_type": "display_data"
    }
   ],
   "source": [
    "# plot epoch errors\n",
    "plt.plot(range(1, len(a.errors_) + 1),\n",
    "        a.errors_, marker='o')\n",
    "plt.xlabel('Epochs')\n",
    "plt.ylabel('Error')\n",
    "plt.show()"
   ]
  },
  {
   "cell_type": "code",
   "execution_count": 150,
   "id": "b33d88c4",
   "metadata": {},
   "outputs": [],
   "source": [
    "def plot_boundary(X, y, w, b):\n",
    "    plt.scatter(X[:5,0], X[:5, 1], color = 'red', marker = 'o', label = '1')\n",
    "    plt.scatter(X[5:,0], X[5:, 1], color = 'blue', marker = 's', label = '0')\n",
    "    plt.xlabel('x1')\n",
    "    plt.ylabel('x2')\n",
    "    plt.legend(loc='upper left')\n",
    "    p1_x1 = np.min(X[:,0])\n",
    "    p1_x2 = (-b - w[0]*p1_x1)/w[1]\n",
    "    \n",
    "    p2_x1 = np.max(X[:,0])\n",
    "    p2_x2 = (-b - w[0]*p2_x1)/w[1]\n",
    "    \n",
    "    plt.plot([p1_x1, p2_x1], [p1_x2, p2_x2], 'go-')\n",
    "    \n",
    "    plt.show()"
   ]
  },
  {
   "cell_type": "code",
   "execution_count": 151,
   "id": "2049b653",
   "metadata": {},
   "outputs": [
    {
     "data": {
      "image/png": "[encoded data removed]",
      "text/plain": [
       "<Figure size 640x480 with 1 Axes>"
      ]
     },
     "metadata": {},
     "output_type": "display_data"
    }
   ],
   "source": [
    "plot_boundary(X, y, a_std.w_, a_std.b_)"
   ]
  },
  {
   "cell_type": "code",
   "execution_count": 155,
   "id": "5b4d6da6",
   "metadata": {},
   "outputs": [
    {
     "data": {
      "text/plain": [
       "array([ 0.74347694,  1.06326069,  0.52112573,  0.61855828,  0.71599082,\n",
       "        0.0414501 , -0.40325231, -0.24336044, -0.03475229, -0.46571164])"
      ]
     },
     "execution_count": 155,
     "metadata": {},
     "output_type": "execute_result"
    }
   ],
   "source": [
    "a_std.net_input(X)"
   ]
  },
  {
   "cell_type": "code",
   "execution_count": null,
   "id": "3cdcbf64",
   "metadata": {},
   "outputs": [],
   "source": []
  }
 ],
 "metadata": {
  "kernelspec": {
   "display_name": "Python 3 (ipykernel)",
   "language": "python",
   "name": "python3"
  },
  "language_info": {
   "codemirror_mode": {
    "name": "ipython",
    "version": 3
   },
   "file_extension": ".py",
   "mimetype": "text/x-python",
   "name": "python",
   "nbconvert_exporter": "python",
   "pygments_lexer": "ipython3",
   "version": "3.10.12"
  }
 },
 "nbformat": 4,
 "nbformat_minor": 5
}
