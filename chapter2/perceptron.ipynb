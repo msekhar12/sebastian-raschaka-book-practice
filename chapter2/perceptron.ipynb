{
 "cells": [
  {
   "cell_type": "code",
   "execution_count": 1,
   "id": "076a44a4-c992-4b3a-9895-de4444b6c75c",
   "metadata": {},
   "outputs": [],
   "source": [
    "import numpy as np\n",
    "import pandas as pd"
   ]
  },
  {
   "cell_type": "code",
   "execution_count": 2,
   "id": "2acc2fa1-8dbf-43dc-b5b9-673102c9b2a9",
   "metadata": {},
   "outputs": [
    {
     "data": {
      "text/plain": [
       "30"
      ]
     },
     "execution_count": 2,
     "metadata": {},
     "output_type": "execute_result"
    }
   ],
   "source": [
    "a1 = np.array([1, 2, 3,4])\n",
    "a2 = np.array([1,2,3,4])\n",
    "a1.dot(a2)"
   ]
  },
  {
   "cell_type": "code",
   "execution_count": 3,
   "id": "d59b1cb9-c204-4a10-8192-132916456219",
   "metadata": {},
   "outputs": [
    {
     "data": {
      "text/plain": [
       "array([30, 30, 30])"
      ]
     },
     "execution_count": 3,
     "metadata": {},
     "output_type": "execute_result"
    }
   ],
   "source": [
    "a1 = np.array([[1, 2, 3,4],[1, 2, 3,4],[1, 2, 3,4]])\n",
    "a2 = np.array([1,2,3,4])\n",
    "a1.dot(a2)"
   ]
  },
  {
   "cell_type": "markdown",
   "id": "1e523eb6-ffe0-4c8b-899d-f363cb548bab",
   "metadata": {},
   "source": [
    "# Perceptron Algorithm"
   ]
  },
  {
   "cell_type": "markdown",
   "id": "cfdce5a8-46f1-414d-837f-2e124dd3f023",
   "metadata": {},
   "source": [
    "* Positive label is represented as 1\n",
    "* Negative label is represented as 0\n",
    "* Target label is represented as $ y $ of size $n X 1$, where $n$ is the number of training examples\n",
    "* Input variables is represented by a matrix of size $ n X m $, where $ n $ is the number of rows/examples, and $m$ is the number of input variables\n",
    "* Weights matrix is represented as $W$ (of size $mX1$), where each variable's corresponding weight is represented as $w_i$\n",
    "* $b$ represents the bias unit\n",
    "\n",
    "## Algorithm\n",
    "\n",
    "$$w_i = w_i + \\Delta w_i$$\n",
    "$$b = b + \\Delta b$$\n",
    "\n",
    "$$\\Delta w_i = \\eta(y^{(j)} - \\hat y^{(j)}).x_i^{(j)}$$\n",
    "$$\\Delta b = \\eta(y^{(j)} - \\hat y^{(j)})$$\n",
    "Where: $$\\eta = \\text{Learning Rate}$$\n",
    "$$y^{(j)} = j^{th} \\text{ training instance}$$\n",
    "$$\\hat y^{(j)}) = \\text{predicted } j^{th} \\text{ training instance's label}$$\n",
    "\n",
    "**Prediction**\n",
    "$$z^{(j)} = W^T . X + b$$\n",
    "$$z^{(j)} \\ge 0 \\text{ Then } \\hat y^{(j)} = 1 \\text{ , else }\\hat y^{(j)} = 0$$"
   ]
  },
  {
   "cell_type": "markdown",
   "id": "cf3fcd81-96e4-4bcf-8e34-e489a55b1f36",
   "metadata": {},
   "source": [
    "Observe the following:\n",
    "* For each training instance, all weights are adjusted\n",
    "* The prediction is NOT made until all the weights are adjusted"
   ]
  },
  {
   "cell_type": "markdown",
   "id": "907f9f9f-a5ec-4ab9-8d32-19743e517b7f",
   "metadata": {},
   "source": [
    "## Example\n",
    "Assume that we have the following data"
   ]
  },
  {
   "cell_type": "code",
   "execution_count": 11,
   "id": "1fcc53ce-a809-4fee-84e8-8028d42804e5",
   "metadata": {},
   "outputs": [
    {
     "data": {
      "text/html": [
       "<div>\n",
       "<style scoped>\n",
       "    .dataframe tbody tr th:only-of-type {\n",
       "        vertical-align: middle;\n",
       "    }\n",
       "\n",
       "    .dataframe tbody tr th {\n",
       "        vertical-align: top;\n",
       "    }\n",
       "\n",
       "    .dataframe thead th {\n",
       "        text-align: right;\n",
       "    }\n",
       "</style>\n",
       "<table border=\"1\" class=\"dataframe\">\n",
       "  <thead>\n",
       "    <tr style=\"text-align: right;\">\n",
       "      <th></th>\n",
       "      <th>x1</th>\n",
       "      <th>x2</th>\n",
       "      <th>y</th>\n",
       "    </tr>\n",
       "  </thead>\n",
       "  <tbody>\n",
       "    <tr>\n",
       "      <th>0</th>\n",
       "      <td>3.0</td>\n",
       "      <td>1.0</td>\n",
       "      <td>1</td>\n",
       "    </tr>\n",
       "    <tr>\n",
       "      <th>1</th>\n",
       "      <td>4.0</td>\n",
       "      <td>1.0</td>\n",
       "      <td>1</td>\n",
       "    </tr>\n",
       "    <tr>\n",
       "      <th>2</th>\n",
       "      <td>3.0</td>\n",
       "      <td>2.0</td>\n",
       "      <td>1</td>\n",
       "    </tr>\n",
       "    <tr>\n",
       "      <th>3</th>\n",
       "      <td>4.0</td>\n",
       "      <td>3.0</td>\n",
       "      <td>1</td>\n",
       "    </tr>\n",
       "    <tr>\n",
       "      <th>4</th>\n",
       "      <td>5.0</td>\n",
       "      <td>4.0</td>\n",
       "      <td>1</td>\n",
       "    </tr>\n",
       "    <tr>\n",
       "      <th>5</th>\n",
       "      <td>1.5</td>\n",
       "      <td>2.0</td>\n",
       "      <td>0</td>\n",
       "    </tr>\n",
       "    <tr>\n",
       "      <th>6</th>\n",
       "      <td>1.5</td>\n",
       "      <td>4.0</td>\n",
       "      <td>0</td>\n",
       "    </tr>\n",
       "    <tr>\n",
       "      <th>7</th>\n",
       "      <td>2.0</td>\n",
       "      <td>4.0</td>\n",
       "      <td>0</td>\n",
       "    </tr>\n",
       "    <tr>\n",
       "      <th>8</th>\n",
       "      <td>3.0</td>\n",
       "      <td>4.5</td>\n",
       "      <td>0</td>\n",
       "    </tr>\n",
       "    <tr>\n",
       "      <th>9</th>\n",
       "      <td>2.0</td>\n",
       "      <td>5.0</td>\n",
       "      <td>0</td>\n",
       "    </tr>\n",
       "  </tbody>\n",
       "</table>\n",
       "</div>"
      ],
      "text/plain": [
       "    x1   x2  y\n",
       "0  3.0  1.0  1\n",
       "1  4.0  1.0  1\n",
       "2  3.0  2.0  1\n",
       "3  4.0  3.0  1\n",
       "4  5.0  4.0  1\n",
       "5  1.5  2.0  0\n",
       "6  1.5  4.0  0\n",
       "7  2.0  4.0  0\n",
       "8  3.0  4.5  0\n",
       "9  2.0  5.0  0"
      ]
     },
     "execution_count": 11,
     "metadata": {},
     "output_type": "execute_result"
    }
   ],
   "source": [
    "x1 = [3,4,3,4,5,1.5,1.5,2,3,2]\n",
    "x2 = [1,1,2,3,4,2,4,4,4.5,5]\n",
    "y = [1,1,1,1,1,0,0,0,0,0]\n",
    "data = pd.DataFrame({'x1':x1,'x2':x2, 'y': y})\n",
    "data"
   ]
  },
  {
   "cell_type": "code",
   "execution_count": 16,
   "id": "2ede20ff-e169-4c53-bc87-ccd49a3f356b",
   "metadata": {},
   "outputs": [
    {
     "data": {
      "image/png": "[encoded data removed]",
      "text/plain": [
       "<Figure size 640x480 with 1 Axes>"
      ]
     },
     "metadata": {},
     "output_type": "display_data"
    }
   ],
   "source": [
    "ax = data.plot.scatter(x='x1',y='x2')\n",
    "data[['x1','x2','y']].apply(lambda row: ax.text(*row),axis=1);"
   ]
  },
  {
   "cell_type": "code",
   "execution_count": 190,
   "id": "66b37f08-9c9b-4679-8ea9-6d0619e9cf32",
   "metadata": {},
   "outputs": [],
   "source": [
    "# Algorithm implementation\n",
    "\n",
    "class Perceptron:\n",
    "    def __init__(self, eta = 0.01, n_iter = 50, random_state=1):\n",
    "        self.eta = eta\n",
    "        self.n_iter = n_iter\n",
    "        self.random_state = random_state\n",
    "\n",
    "    def fit(self, X, y):\n",
    "        # INITIALIZE WEIGHTS TO RANDOM VALUES FROM STD NORMAL DIST (mean 0, and variance=0.01)\n",
    "        # rgen = np.random.RandomState(self.random_state)\n",
    "        # self.w_ = rgen.normal(loc=0.0, scale=0.01, size=X.shape[1])\n",
    "        # self.b_ = np.float64(0) # weight initialized to 0\n",
    "        # Comment/uncomment the code to check how the model changes.\n",
    "        # Initialize the weights to 0\n",
    "        self.w_ = np.zeros(X.shape[1])\n",
    "        self.b_ = np.float64(0)\n",
    "        # Initialize the weights to 1 and 2; bias to 1\n",
    "        # self.w_ = np.array([1.0,2.0])\n",
    "        # self.b_ = np.float64(1.0)\n",
    "        # Initialize the weights to 10, 20; bias to 10. This will never converge (in 50 epochs)\n",
    "        # self.w_ = np.array([10.0,20.0])\n",
    "        # self.b_ = np.float64(10.0)\n",
    "        self.errors_ = []\n",
    "        # example: w: [ 0.01624345 -0.00611756]\n",
    "        # b: 0.0\n",
    "        print(\"Initial Values for weigths and bias:\")\n",
    "        print(f\"w: {self.w_}\")\n",
    "        print(f\"b: {self.b_}\")\n",
    "\n",
    "        for _ in range(self.n_iter):\n",
    "            errors = 0\n",
    "            for xi, target in zip(X.values, y):\n",
    "                # print(xi)\n",
    "                # print(target)\n",
    "                # print(f\"eta: {self.eta}\")\n",
    "                # print(f\"xi: {xi}\")\n",
    "                # print(f\"predict: {self.predict(xi)}\")\n",
    "                # print(f\"target: {target}\")\n",
    "                update = self.eta * (target - self.predict(xi))\n",
    "                self.w_ += update * xi\n",
    "                self.b_ += update\n",
    "                errors += int(update != 0.0)\n",
    "            self.errors_.append(errors)\n",
    "            print(f\"Weights: {self.w_}, bias: {self.b_}\")\n",
    "        return self\n",
    "\n",
    "    def net_input(self, X):\n",
    "        return np.dot(X, self.w_) + self.b_\n",
    "\n",
    "    def predict(self, X):\n",
    "        return np.where(self.net_input(X) >= 0.0, 1, 0)\n",
    "\n",
    "        "
   ]
  },
  {
   "cell_type": "code",
   "execution_count": 215,
   "id": "a4983390-d87f-462f-96e6-1f7bd8bce468",
   "metadata": {},
   "outputs": [
    {
     "name": "stdout",
     "output_type": "stream",
     "text": [
      "Initial Values for weigths and bias:\n",
      "w: [0. 0.]\n",
      "b: 0.0\n",
      "Weights: [-30. -40.], bias: -20.0\n",
      "Weights: [  0. -60.], bias: -20.0\n",
      "Weights: [ 30. -80.], bias: -20.0\n",
      "Weights: [  60. -100.], bias: -20.0\n",
      "Weights: [  90. -100.], bias: -20.0\n",
      "Weights: [  90. -100.], bias: -20.0\n",
      "Weights: [  90. -100.], bias: -20.0\n",
      "Weights: [  90. -100.], bias: -20.0\n",
      "Weights: [  90. -100.], bias: -20.0\n",
      "Weights: [  90. -100.], bias: -20.0\n",
      "Weights: [  90. -100.], bias: -20.0\n",
      "Weights: [  90. -100.], bias: -20.0\n",
      "Weights: [  90. -100.], bias: -20.0\n",
      "Weights: [  90. -100.], bias: -20.0\n",
      "Weights: [  90. -100.], bias: -20.0\n",
      "Weights: [  90. -100.], bias: -20.0\n",
      "Weights: [  90. -100.], bias: -20.0\n",
      "Weights: [  90. -100.], bias: -20.0\n",
      "Weights: [  90. -100.], bias: -20.0\n",
      "Weights: [  90. -100.], bias: -20.0\n",
      "Weights: [  90. -100.], bias: -20.0\n",
      "Weights: [  90. -100.], bias: -20.0\n",
      "Weights: [  90. -100.], bias: -20.0\n",
      "Weights: [  90. -100.], bias: -20.0\n",
      "Weights: [  90. -100.], bias: -20.0\n",
      "Weights: [  90. -100.], bias: -20.0\n",
      "Weights: [  90. -100.], bias: -20.0\n",
      "Weights: [  90. -100.], bias: -20.0\n",
      "Weights: [  90. -100.], bias: -20.0\n",
      "Weights: [  90. -100.], bias: -20.0\n",
      "Weights: [  90. -100.], bias: -20.0\n",
      "Weights: [  90. -100.], bias: -20.0\n",
      "Weights: [  90. -100.], bias: -20.0\n",
      "Weights: [  90. -100.], bias: -20.0\n",
      "Weights: [  90. -100.], bias: -20.0\n",
      "Weights: [  90. -100.], bias: -20.0\n",
      "Weights: [  90. -100.], bias: -20.0\n",
      "Weights: [  90. -100.], bias: -20.0\n",
      "Weights: [  90. -100.], bias: -20.0\n",
      "Weights: [  90. -100.], bias: -20.0\n",
      "Weights: [  90. -100.], bias: -20.0\n",
      "Weights: [  90. -100.], bias: -20.0\n",
      "Weights: [  90. -100.], bias: -20.0\n",
      "Weights: [  90. -100.], bias: -20.0\n",
      "Weights: [  90. -100.], bias: -20.0\n",
      "Weights: [  90. -100.], bias: -20.0\n",
      "Weights: [  90. -100.], bias: -20.0\n",
      "Weights: [  90. -100.], bias: -20.0\n",
      "Weights: [  90. -100.], bias: -20.0\n",
      "Weights: [  90. -100.], bias: -20.0\n"
     ]
    },
    {
     "data": {
      "text/plain": [
       "<__main__.Perceptron at 0x7fea9abcaf70>"
      ]
     },
     "execution_count": 215,
     "metadata": {},
     "output_type": "execute_result"
    }
   ],
   "source": [
    "p = Perceptron(random_state=100, eta = 20)\n",
    "p.fit(data[['x1','x2']], data['y'])"
   ]
  },
  {
   "cell_type": "code",
   "execution_count": 216,
   "id": "9438dfb2-6bee-4d90-9640-9baa8ca75820",
   "metadata": {},
   "outputs": [
    {
     "data": {
      "text/plain": [
       "array([  90., -100.])"
      ]
     },
     "execution_count": 216,
     "metadata": {},
     "output_type": "execute_result"
    }
   ],
   "source": [
    "p.w_"
   ]
  },
  {
   "cell_type": "code",
   "execution_count": 217,
   "id": "518238c4-bfd5-410d-a084-2c4187ecb581",
   "metadata": {},
   "outputs": [
    {
     "data": {
      "text/plain": [
       "np.float64(-20.0)"
      ]
     },
     "execution_count": 217,
     "metadata": {},
     "output_type": "execute_result"
    }
   ],
   "source": [
    "p.b_"
   ]
  },
  {
   "cell_type": "code",
   "execution_count": 218,
   "id": "e9a74dc6-bbea-4959-bbf4-486473aa03ca",
   "metadata": {},
   "outputs": [
    {
     "name": "stdout",
     "output_type": "stream",
     "text": [
      "[1, 2, 2, 2, 2, 0, 0, 0, 0, 0, 0, 0, 0, 0, 0, 0, 0, 0, 0, 0, 0, 0, 0, 0, 0, 0, 0, 0, 0, 0, 0, 0, 0, 0, 0, 0, 0, 0, 0, 0, 0, 0, 0, 0, 0, 0, 0, 0, 0, 0]\n"
     ]
    }
   ],
   "source": [
    "print(p.errors_)"
   ]
  },
  {
   "cell_type": "code",
   "execution_count": 219,
   "id": "8d334727-7c7d-4396-bb4b-9c35221ddbdd",
   "metadata": {},
   "outputs": [
    {
     "data": {
      "text/plain": [
       "array([1, 1, 1, 1, 1, 0, 0, 0, 0, 0])"
      ]
     },
     "execution_count": 219,
     "metadata": {},
     "output_type": "execute_result"
    }
   ],
   "source": [
    "p.predict(data[['x1','x2']].values)"
   ]
  },
  {
   "cell_type": "code",
   "execution_count": 220,
   "id": "6c1b2c84-b550-438b-aa05-311764dba118",
   "metadata": {},
   "outputs": [
    {
     "data": {
      "text/plain": [
       "array([  90., -100.])"
      ]
     },
     "execution_count": 220,
     "metadata": {},
     "output_type": "execute_result"
    }
   ],
   "source": [
    "p.w_"
   ]
  },
  {
   "cell_type": "code",
   "execution_count": 221,
   "id": "4347b29e-569e-422f-a675-4265608d57e3",
   "metadata": {},
   "outputs": [],
   "source": [
    "x1 = range(0,6)\n",
    "x2 = [(p.w_[0] * x + p.b_)/(-p.w_[1]) for x in x1]"
   ]
  },
  {
   "cell_type": "code",
   "execution_count": 222,
   "id": "078f674c-a300-4a75-b55a-0dfaba61e32a",
   "metadata": {},
   "outputs": [
    {
     "data": {
      "text/plain": [
       "range(0, 6)"
      ]
     },
     "execution_count": 222,
     "metadata": {},
     "output_type": "execute_result"
    }
   ],
   "source": [
    "x1"
   ]
  },
  {
   "cell_type": "code",
   "execution_count": 223,
   "id": "e9ee2d88-70cb-4543-a7a5-dcd530204611",
   "metadata": {},
   "outputs": [
    {
     "data": {
      "text/plain": [
       "[np.float64(-0.2),\n",
       " np.float64(0.7),\n",
       " np.float64(1.6),\n",
       " np.float64(2.5),\n",
       " np.float64(3.4),\n",
       " np.float64(4.3)]"
      ]
     },
     "execution_count": 223,
     "metadata": {},
     "output_type": "execute_result"
    }
   ],
   "source": [
    "x2"
   ]
  },
  {
   "cell_type": "code",
   "execution_count": 224,
   "id": "bdc78e44-9e8c-4c89-8b6e-eeb7af01d644",
   "metadata": {},
   "outputs": [
    {
     "data": {
      "text/plain": [
       "[<matplotlib.lines.Line2D at 0x7feab74e2e20>]"
      ]
     },
     "execution_count": 224,
     "metadata": {},
     "output_type": "execute_result"
    },
    {
     "data": {
      "image/png": "[encoded data removed]",
      "text/plain": [
       "<Figure size 640x480 with 1 Axes>"
      ]
     },
     "metadata": {},
     "output_type": "display_data"
    }
   ],
   "source": [
    "ax = data.plot.scatter(x='x1',y='x2')\n",
    "data[['x1','x2','y']].apply(lambda row: ax.text(*row),axis=1)\n",
    "ax.plot(x1,x2)"
   ]
  },
  {
   "cell_type": "code",
   "execution_count": 16,
   "id": "96add9fb-54fb-4d4a-b81a-2f0ff6cc3b97",
   "metadata": {},
   "outputs": [],
   "source": [
    "# update weights\n",
    "def update_weights(eta, X, labels, w1, w2, b):\n",
    "    updates = 0\n",
    "    for ((x1, x2), y) in zip(X, labels):\n",
    "        z_cap = w1*x1+w2*x2+b\n",
    "        if z_cap >= 0:\n",
    "            y_cap = 1\n",
    "        else:\n",
    "            y_cap = 0\n",
    "            \n",
    "        update = eta * (y - y_cap) \n",
    "        if update != 0:\n",
    "            updates += 1\n",
    "        w1 = w1 + update * x1\n",
    "        w2 = w2 + update * x2\n",
    "        b = b + update\n",
    "        print(f\"{w1}x1 + {w2}x2 + {b}\")\n",
    "    return w1, w2, b, updates\n",
    "        "
   ]
  },
  {
   "cell_type": "code",
   "execution_count": 80,
   "id": "0c956f7e",
   "metadata": {},
   "outputs": [
    {
     "name": "stdout",
     "output_type": "stream",
     "text": [
      "-0.01x1 + -0.04x2 + 2.99\n",
      "-0.01x1 + -0.04x2 + 2.99\n",
      "updates: 1\n",
      "-0.02x1 + -0.08x2 + 2.9800000000000004\n",
      "-0.02x1 + -0.08x2 + 2.9800000000000004\n",
      "updates: 1\n",
      "-0.03x1 + -0.12x2 + 2.9700000000000006\n",
      "-0.03x1 + -0.12x2 + 2.9700000000000006\n",
      "updates: 1\n",
      "-0.04x1 + -0.16x2 + 2.960000000000001\n",
      "-0.04x1 + -0.16x2 + 2.960000000000001\n",
      "updates: 1\n",
      "-0.05x1 + -0.2x2 + 2.950000000000001\n",
      "-0.05x1 + -0.2x2 + 2.950000000000001\n",
      "updates: 1\n",
      "-0.060000000000000005x1 + -0.24000000000000002x2 + 2.9400000000000013\n",
      "-0.060000000000000005x1 + -0.24000000000000002x2 + 2.9400000000000013\n",
      "updates: 1\n",
      "-0.07x1 + -0.28x2 + 2.9300000000000015\n",
      "-0.07x1 + -0.28x2 + 2.9300000000000015\n",
      "updates: 1\n",
      "-0.08x1 + -0.32x2 + 2.9200000000000017\n",
      "-0.08x1 + -0.32x2 + 2.9200000000000017\n",
      "updates: 1\n",
      "-0.09x1 + -0.36x2 + 2.910000000000002\n",
      "-0.09x1 + -0.36x2 + 2.910000000000002\n",
      "updates: 1\n",
      "-0.09999999999999999x1 + -0.39999999999999997x2 + 2.900000000000002\n",
      "-0.09999999999999999x1 + -0.39999999999999997x2 + 2.900000000000002\n",
      "updates: 1\n",
      "-0.10999999999999999x1 + -0.43999999999999995x2 + 2.8900000000000023\n",
      "-0.10999999999999999x1 + -0.43999999999999995x2 + 2.8900000000000023\n",
      "updates: 1\n",
      "-0.11999999999999998x1 + -0.4799999999999999x2 + 2.8800000000000026\n",
      "-0.11999999999999998x1 + -0.4799999999999999x2 + 2.8800000000000026\n",
      "updates: 1\n",
      "-0.12999999999999998x1 + -0.5199999999999999x2 + 2.8700000000000028\n",
      "-0.09999999999999998x1 + -0.4699999999999999x2 + 2.8800000000000026\n",
      "updates: 2\n",
      "-0.10999999999999997x1 + -0.5099999999999999x2 + 2.8700000000000028\n",
      "-0.07999999999999997x1 + -0.4599999999999999x2 + 2.8800000000000026\n",
      "updates: 2\n",
      "-0.08999999999999997x1 + -0.4999999999999999x2 + 2.8700000000000028\n",
      "-0.08999999999999997x1 + -0.4999999999999999x2 + 2.8700000000000028\n",
      "updates: 1\n",
      "-0.09999999999999996x1 + -0.5399999999999999x2 + 2.860000000000003\n",
      "-0.06999999999999997x1 + -0.48999999999999994x2 + 2.8700000000000028\n",
      "updates: 2\n",
      "-0.07999999999999996x1 + -0.5299999999999999x2 + 2.860000000000003\n",
      "-0.04999999999999996x1 + -0.4799999999999999x2 + 2.8700000000000028\n",
      "updates: 2\n",
      "-0.05999999999999996x1 + -0.5199999999999999x2 + 2.860000000000003\n",
      "-0.05999999999999996x1 + -0.5199999999999999x2 + 2.860000000000003\n",
      "updates: 1\n",
      "-0.06999999999999997x1 + -0.5599999999999999x2 + 2.850000000000003\n",
      "-0.039999999999999966x1 + -0.5099999999999999x2 + 2.860000000000003\n",
      "updates: 2\n",
      "-0.04999999999999997x1 + -0.5499999999999999x2 + 2.850000000000003\n",
      "-0.01999999999999997x1 + -0.49999999999999994x2 + 2.860000000000003\n",
      "updates: 2\n",
      "-0.02999999999999997x1 + -0.5399999999999999x2 + 2.850000000000003\n",
      "-0.02999999999999997x1 + -0.5399999999999999x2 + 2.850000000000003\n",
      "updates: 1\n",
      "-0.03999999999999997x1 + -0.58x2 + 2.8400000000000034\n",
      "-0.009999999999999974x1 + -0.5299999999999999x2 + 2.850000000000003\n",
      "updates: 2\n",
      "-0.019999999999999976x1 + -0.57x2 + 2.8400000000000034\n",
      "0.010000000000000023x1 + -0.5199999999999999x2 + 2.850000000000003\n",
      "updates: 2\n",
      "2.2551405187698492e-17x1 + -0.5599999999999999x2 + 2.8400000000000034\n",
      "2.2551405187698492e-17x1 + -0.5599999999999999x2 + 2.8400000000000034\n",
      "updates: 1\n",
      "-0.009999999999999978x1 + -0.6x2 + 2.8300000000000036\n",
      "0.02000000000000002x1 + -0.5499999999999999x2 + 2.8400000000000034\n",
      "updates: 2\n",
      "0.010000000000000021x1 + -0.59x2 + 2.8300000000000036\n",
      "0.04000000000000002x1 + -0.5399999999999999x2 + 2.8400000000000034\n",
      "updates: 2\n",
      "0.03000000000000002x1 + -0.58x2 + 2.8300000000000036\n",
      "0.03000000000000002x1 + -0.58x2 + 2.8300000000000036\n",
      "updates: 1\n",
      "0.020000000000000018x1 + -0.62x2 + 2.820000000000004\n",
      "0.05000000000000002x1 + -0.57x2 + 2.8300000000000036\n",
      "updates: 2\n",
      "0.040000000000000015x1 + -0.61x2 + 2.820000000000004\n",
      "0.07x1 + -0.5599999999999999x2 + 2.8300000000000036\n",
      "updates: 2\n",
      "0.060000000000000005x1 + -0.6x2 + 2.820000000000004\n",
      "0.060000000000000005x1 + -0.6x2 + 2.820000000000004\n",
      "updates: 1\n",
      "0.05x1 + -0.64x2 + 2.810000000000004\n",
      "0.08x1 + -0.59x2 + 2.820000000000004\n",
      "updates: 2\n",
      "0.07x1 + -0.63x2 + 2.810000000000004\n",
      "0.1x1 + -0.58x2 + 2.820000000000004\n",
      "updates: 2\n",
      "0.09000000000000001x1 + -0.62x2 + 2.810000000000004\n",
      "0.12000000000000001x1 + -0.57x2 + 2.820000000000004\n",
      "updates: 2\n",
      "0.11000000000000001x1 + -0.61x2 + 2.810000000000004\n",
      "0.11000000000000001x1 + -0.61x2 + 2.810000000000004\n",
      "updates: 1\n",
      "0.10000000000000002x1 + -0.65x2 + 2.8000000000000043\n",
      "0.13x1 + -0.6x2 + 2.810000000000004\n",
      "updates: 2\n",
      "0.12000000000000001x1 + -0.64x2 + 2.8000000000000043\n",
      "0.15000000000000002x1 + -0.59x2 + 2.810000000000004\n",
      "updates: 2\n",
      "0.14x1 + -0.63x2 + 2.8000000000000043\n",
      "0.14x1 + -0.63x2 + 2.8000000000000043\n",
      "updates: 1\n",
      "0.13x1 + -0.67x2 + 2.7900000000000045\n",
      "0.16x1 + -0.62x2 + 2.8000000000000043\n",
      "updates: 2\n",
      "0.15x1 + -0.66x2 + 2.7900000000000045\n",
      "0.18x1 + -0.61x2 + 2.8000000000000043\n",
      "updates: 2\n",
      "0.16999999999999998x1 + -0.65x2 + 2.7900000000000045\n",
      "0.16999999999999998x1 + -0.65x2 + 2.7900000000000045\n",
      "updates: 1\n",
      "0.15999999999999998x1 + -0.6900000000000001x2 + 2.7800000000000047\n",
      "0.18999999999999997x1 + -0.64x2 + 2.7900000000000045\n",
      "updates: 2\n",
      "0.17999999999999997x1 + -0.68x2 + 2.7800000000000047\n",
      "0.20999999999999996x1 + -0.63x2 + 2.7900000000000045\n",
      "updates: 2\n",
      "0.19999999999999996x1 + -0.67x2 + 2.7800000000000047\n",
      "0.19999999999999996x1 + -0.67x2 + 2.7800000000000047\n",
      "updates: 1\n",
      "0.18999999999999995x1 + -0.7100000000000001x2 + 2.770000000000005\n",
      "0.21999999999999995x1 + -0.66x2 + 2.7800000000000047\n",
      "updates: 2\n",
      "0.20999999999999994x1 + -0.7000000000000001x2 + 2.770000000000005\n",
      "0.23999999999999994x1 + -0.65x2 + 2.7800000000000047\n",
      "updates: 2\n",
      "0.22999999999999993x1 + -0.6900000000000001x2 + 2.770000000000005\n",
      "0.22999999999999993x1 + -0.6900000000000001x2 + 2.770000000000005\n",
      "updates: 1\n",
      "0.21999999999999992x1 + -0.7300000000000001x2 + 2.760000000000005\n",
      "0.24999999999999992x1 + -0.68x2 + 2.770000000000005\n",
      "updates: 2\n",
      "0.2399999999999999x1 + -0.7200000000000001x2 + 2.760000000000005\n",
      "0.2699999999999999x1 + -0.67x2 + 2.770000000000005\n",
      "updates: 2\n",
      "0.2599999999999999x1 + -0.7100000000000001x2 + 2.760000000000005\n",
      "0.2899999999999999x1 + -0.66x2 + 2.770000000000005\n",
      "updates: 2\n",
      "0.2799999999999999x1 + -0.7000000000000001x2 + 2.760000000000005\n",
      "0.2799999999999999x1 + -0.7000000000000001x2 + 2.760000000000005\n",
      "updates: 1\n",
      "0.2699999999999999x1 + -0.7400000000000001x2 + 2.7500000000000053\n",
      "0.29999999999999993x1 + -0.6900000000000001x2 + 2.760000000000005\n",
      "updates: 2\n",
      "0.2899999999999999x1 + -0.7300000000000001x2 + 2.7500000000000053\n",
      "0.31999999999999995x1 + -0.68x2 + 2.760000000000005\n",
      "updates: 2\n",
      "0.30999999999999994x1 + -0.7200000000000001x2 + 2.7500000000000053\n",
      "0.30999999999999994x1 + -0.7200000000000001x2 + 2.7500000000000053\n",
      "updates: 1\n",
      "0.29999999999999993x1 + -0.7600000000000001x2 + 2.7400000000000055\n",
      "0.32999999999999996x1 + -0.7100000000000001x2 + 2.7500000000000053\n",
      "updates: 2\n",
      "0.31999999999999995x1 + -0.7500000000000001x2 + 2.7400000000000055\n",
      "0.35x1 + -0.7000000000000001x2 + 2.7500000000000053\n",
      "updates: 2\n",
      "0.33999999999999997x1 + -0.7400000000000001x2 + 2.7400000000000055\n",
      "0.33999999999999997x1 + -0.7400000000000001x2 + 2.7400000000000055\n",
      "updates: 1\n",
      "0.32999999999999996x1 + -0.7800000000000001x2 + 2.7300000000000058\n",
      "0.36x1 + -0.7300000000000001x2 + 2.7400000000000055\n",
      "updates: 2\n",
      "0.35x1 + -0.7700000000000001x2 + 2.7300000000000058\n",
      "0.38x1 + -0.7200000000000001x2 + 2.7400000000000055\n",
      "updates: 2\n",
      "0.37x1 + -0.7600000000000001x2 + 2.7300000000000058\n",
      "0.37x1 + -0.7600000000000001x2 + 2.7300000000000058\n",
      "updates: 1\n",
      "0.36x1 + -0.8000000000000002x2 + 2.720000000000006\n",
      "0.39x1 + -0.7500000000000001x2 + 2.7300000000000058\n",
      "updates: 2\n",
      "0.38x1 + -0.7900000000000001x2 + 2.720000000000006\n",
      "0.41000000000000003x1 + -0.7400000000000001x2 + 2.7300000000000058\n",
      "updates: 2\n",
      "0.4x1 + -0.7800000000000001x2 + 2.720000000000006\n",
      "0.4x1 + -0.7800000000000001x2 + 2.720000000000006\n",
      "updates: 1\n",
      "0.39x1 + -0.8200000000000002x2 + 2.710000000000006\n",
      "0.42000000000000004x1 + -0.7700000000000001x2 + 2.720000000000006\n",
      "updates: 2\n",
      "0.41000000000000003x1 + -0.8100000000000002x2 + 2.710000000000006\n",
      "0.44000000000000006x1 + -0.7600000000000001x2 + 2.720000000000006\n",
      "updates: 2\n",
      "0.43000000000000005x1 + -0.8000000000000002x2 + 2.710000000000006\n",
      "0.43000000000000005x1 + -0.8000000000000002x2 + 2.710000000000006\n",
      "updates: 1\n",
      "0.43000000000000005x1 + -0.8000000000000002x2 + 2.710000000000006\n",
      "0.43000000000000005x1 + -0.8000000000000002x2 + 2.710000000000006\n"
     ]
    }
   ],
   "source": [
    "X = [[1,4], [3,5]] \n",
    "labels = [0,1]\n",
    "w1 = 0\n",
    "w2 = 0 \n",
    "b = 3\n",
    "eta = 0.01\n",
    "\n",
    "w1, w2, b, updates = update_weights(eta, X, labels, w1, w2, b)\n",
    "while updates > 0:\n",
    "    print(f\"updates: {updates}\")\n",
    "    w1, w2, b, updates = update_weights(eta, X, labels, w1, w2, b)"
   ]
  },
  {
   "cell_type": "code",
   "execution_count": 45,
   "id": "c11cee9f",
   "metadata": {},
   "outputs": [
    {
     "name": "stdout",
     "output_type": "stream",
     "text": [
      "-1x1 + -4x2 + -1\n",
      "2x1 + 1x2 + 0\n",
      "2 1 0 2\n"
     ]
    }
   ],
   "source": [
    "w1, w2, b, updates = update_weights(eta, X, labels, w1, w2, b)\n",
    "print(w1, w2, b, updates)"
   ]
  },
  {
   "cell_type": "code",
   "execution_count": 46,
   "id": "1316566b",
   "metadata": {},
   "outputs": [
    {
     "name": "stdout",
     "output_type": "stream",
     "text": [
      "1.9x1 + 0.6x2 + -0.1\n",
      "1.9x1 + 0.6x2 + -0.1\n",
      "1.9 0.6 -0.1 1\n"
     ]
    }
   ],
   "source": [
    "w1, w2, b, updates = update_weights(0.1, [[1,4], [3,5]], [0,1], w1, w2, b)\n",
    "print(w1, w2, b, updates)"
   ]
  },
  {
   "cell_type": "code",
   "execution_count": 47,
   "id": "eee6426c",
   "metadata": {},
   "outputs": [
    {
     "name": "stdout",
     "output_type": "stream",
     "text": [
      "1.89x1 + 0.5599999999999999x2 + -0.11\n",
      "1.89x1 + 0.5599999999999999x2 + -0.11\n",
      "1.89 0.5599999999999999 -0.11 1\n"
     ]
    }
   ],
   "source": [
    "w1, w2, b, updates = update_weights(0.01, [[1,4], [3,5]], [0,1], w1, w2, b)\n",
    "print(w1, w2, b, updates)"
   ]
  },
  {
   "cell_type": "code",
   "execution_count": 48,
   "id": "3f9c8efc",
   "metadata": {},
   "outputs": [
    {
     "name": "stdout",
     "output_type": "stream",
     "text": [
      "1.88x1 + 0.5199999999999999x2 + -0.12\n",
      "1.88x1 + 0.5199999999999999x2 + -0.12\n",
      "1.88 0.5199999999999999 -0.12 1\n"
     ]
    }
   ],
   "source": [
    "w1, w2, b, updates = update_weights(0.01, [[1,4], [3,5]], [0,1], w1, w2, b)\n",
    "print(w1, w2, b, updates)"
   ]
  },
  {
   "cell_type": "code",
   "execution_count": 49,
   "id": "07f2466b",
   "metadata": {},
   "outputs": [
    {
     "name": "stdout",
     "output_type": "stream",
     "text": [
      "1.8699999999999999x1 + 0.4799999999999999x2 + -0.13\n",
      "1.8699999999999999x1 + 0.4799999999999999x2 + -0.13\n",
      "1.8699999999999999 0.4799999999999999 -0.13 1\n"
     ]
    }
   ],
   "source": [
    "w1, w2, b, updates = update_weights(0.01, [[1,4], [3,5]], [0,1], w1, w2, b)\n",
    "print(w1, w2, b, updates)"
   ]
  },
  {
   "cell_type": "code",
   "execution_count": 50,
   "id": "5253375d",
   "metadata": {},
   "outputs": [
    {
     "name": "stdout",
     "output_type": "stream",
     "text": [
      "1.8599999999999999x1 + 0.43999999999999995x2 + -0.14\n",
      "1.8599999999999999x1 + 0.43999999999999995x2 + -0.14\n",
      "1.8599999999999999 0.43999999999999995 -0.14 1\n"
     ]
    }
   ],
   "source": [
    "w1, w2, b, updates = update_weights(0.01, [[1,4], [3,5]], [0,1], w1, w2, b)\n",
    "print(w1, w2, b, updates)"
   ]
  },
  {
   "cell_type": "code",
   "execution_count": 51,
   "id": "811a2d27",
   "metadata": {},
   "outputs": [
    {
     "name": "stdout",
     "output_type": "stream",
     "text": [
      "1.8499999999999999x1 + 0.39999999999999997x2 + -0.15000000000000002\n",
      "1.8499999999999999x1 + 0.39999999999999997x2 + -0.15000000000000002\n",
      "1.8499999999999999 0.39999999999999997 -0.15000000000000002 1\n"
     ]
    }
   ],
   "source": [
    "w1, w2, b, updates = update_weights(0.01, [[1,4], [3,5]], [0,1], w1, w2, b)\n",
    "print(w1, w2, b, updates)"
   ]
  },
  {
   "cell_type": "code",
   "execution_count": 52,
   "id": "bc60ba44",
   "metadata": {},
   "outputs": [
    {
     "name": "stdout",
     "output_type": "stream",
     "text": [
      "1.8399999999999999x1 + 0.36x2 + -0.16000000000000003\n",
      "1.8399999999999999x1 + 0.36x2 + -0.16000000000000003\n",
      "1.8399999999999999 0.36 -0.16000000000000003 1\n"
     ]
    }
   ],
   "source": [
    "w1, w2, b, updates = update_weights(0.01, [[1,4], [3,5]], [0,1], w1, w2, b)\n",
    "print(w1, w2, b, updates)"
   ]
  },
  {
   "cell_type": "code",
   "execution_count": 53,
   "id": "e504a0d2",
   "metadata": {},
   "outputs": [
    {
     "name": "stdout",
     "output_type": "stream",
     "text": [
      "1.8299999999999998x1 + 0.32x2 + -0.17000000000000004\n",
      "1.8299999999999998x1 + 0.32x2 + -0.17000000000000004\n",
      "1.8299999999999998 0.32 -0.17000000000000004 1\n"
     ]
    }
   ],
   "source": [
    "w1, w2, b, updates = update_weights(0.01, [[1,4], [3,5]], [0,1], w1, w2, b)\n",
    "print(w1, w2, b, updates)"
   ]
  },
  {
   "cell_type": "code",
   "execution_count": 54,
   "id": "4a394dbe",
   "metadata": {},
   "outputs": [
    {
     "name": "stdout",
     "output_type": "stream",
     "text": [
      "1.8199999999999998x1 + 0.28x2 + -0.18000000000000005\n",
      "1.8199999999999998x1 + 0.28x2 + -0.18000000000000005\n",
      "1.8199999999999998 0.28 -0.18000000000000005 1\n"
     ]
    }
   ],
   "source": [
    "w1, w2, b, updates = update_weights(0.01, [[1,4], [3,5]], [0,1], w1, w2, b)\n",
    "print(w1, w2, b, updates)"
   ]
  },
  {
   "cell_type": "code",
   "execution_count": 55,
   "id": "79bf9a88",
   "metadata": {},
   "outputs": [
    {
     "name": "stdout",
     "output_type": "stream",
     "text": [
      "1.8099999999999998x1 + 0.24000000000000002x2 + -0.19000000000000006\n",
      "1.8099999999999998x1 + 0.24000000000000002x2 + -0.19000000000000006\n",
      "1.8099999999999998 0.24000000000000002 -0.19000000000000006 1\n"
     ]
    }
   ],
   "source": [
    "w1, w2, b, updates = update_weights(0.01, [[1,4], [3,5]], [0,1], w1, w2, b)\n",
    "print(w1, w2, b, updates)"
   ]
  },
  {
   "cell_type": "code",
   "execution_count": 56,
   "id": "da6e7723",
   "metadata": {},
   "outputs": [
    {
     "name": "stdout",
     "output_type": "stream",
     "text": [
      "1.7999999999999998x1 + 0.2x2 + -0.20000000000000007\n",
      "1.7999999999999998x1 + 0.2x2 + -0.20000000000000007\n",
      "1.7999999999999998 0.2 -0.20000000000000007 1\n"
     ]
    }
   ],
   "source": [
    "w1, w2, b, updates = update_weights(0.01, [[1,4], [3,5]], [0,1], w1, w2, b)\n",
    "print(w1, w2, b, updates)"
   ]
  },
  {
   "cell_type": "code",
   "execution_count": 57,
   "id": "cd4b3461",
   "metadata": {},
   "outputs": [
    {
     "name": "stdout",
     "output_type": "stream",
     "text": [
      "1.7899999999999998x1 + 0.16x2 + -0.21000000000000008\n",
      "1.7899999999999998x1 + 0.16x2 + -0.21000000000000008\n",
      "1.7899999999999998 0.16 -0.21000000000000008 1\n"
     ]
    }
   ],
   "source": [
    "w1, w2, b, updates = update_weights(0.01, [[1,4], [3,5]], [0,1], w1, w2, b)\n",
    "print(w1, w2, b, updates)"
   ]
  },
  {
   "cell_type": "code",
   "execution_count": 58,
   "id": "80e17067",
   "metadata": {},
   "outputs": [
    {
     "name": "stdout",
     "output_type": "stream",
     "text": [
      "1.7799999999999998x1 + 0.12x2 + -0.22000000000000008\n",
      "1.7799999999999998x1 + 0.12x2 + -0.22000000000000008\n",
      "1.7799999999999998 0.12 -0.22000000000000008 1\n"
     ]
    }
   ],
   "source": [
    "w1, w2, b, updates = update_weights(0.01, [[1,4], [3,5]], [0,1], w1, w2, b)\n",
    "print(w1, w2, b, updates)"
   ]
  },
  {
   "cell_type": "code",
   "execution_count": 59,
   "id": "603a506d",
   "metadata": {},
   "outputs": [
    {
     "name": "stdout",
     "output_type": "stream",
     "text": [
      "1.7699999999999998x1 + 0.07999999999999999x2 + -0.2300000000000001\n",
      "1.7699999999999998x1 + 0.07999999999999999x2 + -0.2300000000000001\n",
      "1.7699999999999998 0.07999999999999999 -0.2300000000000001 1\n"
     ]
    }
   ],
   "source": [
    "w1, w2, b, updates = update_weights(0.01, [[1,4], [3,5]], [0,1], w1, w2, b)\n",
    "print(w1, w2, b, updates)"
   ]
  },
  {
   "cell_type": "code",
   "execution_count": 60,
   "id": "c171e5a4",
   "metadata": {},
   "outputs": [
    {
     "name": "stdout",
     "output_type": "stream",
     "text": [
      "1.7599999999999998x1 + 0.03999999999999999x2 + -0.2400000000000001\n",
      "1.7599999999999998x1 + 0.03999999999999999x2 + -0.2400000000000001\n",
      "1.7599999999999998 0.03999999999999999 -0.2400000000000001 1\n"
     ]
    }
   ],
   "source": [
    "w1, w2, b, updates = update_weights(0.01, [[1,4], [3,5]], [0,1], w1, w2, b)\n",
    "print(w1, w2, b, updates)"
   ]
  },
  {
   "cell_type": "code",
   "execution_count": 61,
   "id": "23ce1e81",
   "metadata": {},
   "outputs": [
    {
     "name": "stdout",
     "output_type": "stream",
     "text": [
      "1.7499999999999998x1 + -1.3877787807814457e-17x2 + -0.2500000000000001\n",
      "1.7499999999999998x1 + -1.3877787807814457e-17x2 + -0.2500000000000001\n",
      "1.7499999999999998 -1.3877787807814457e-17 -0.2500000000000001 1\n"
     ]
    }
   ],
   "source": [
    "w1, w2, b, updates = update_weights(0.01, [[1,4], [3,5]], [0,1], w1, w2, b)\n",
    "print(w1, w2, b, updates)"
   ]
  },
  {
   "cell_type": "code",
   "execution_count": 62,
   "id": "49785fee",
   "metadata": {},
   "outputs": [
    {
     "name": "stdout",
     "output_type": "stream",
     "text": [
      "1.7399999999999998x1 + -0.040000000000000015x2 + -0.2600000000000001\n",
      "1.7399999999999998x1 + -0.040000000000000015x2 + -0.2600000000000001\n",
      "1.7399999999999998 -0.040000000000000015 -0.2600000000000001 1\n"
     ]
    }
   ],
   "source": [
    "w1, w2, b, updates = update_weights(0.01, [[1,4], [3,5]], [0,1], w1, w2, b)\n",
    "print(w1, w2, b, updates)"
   ]
  },
  {
   "cell_type": "code",
   "execution_count": 63,
   "id": "473469a1",
   "metadata": {},
   "outputs": [
    {
     "name": "stdout",
     "output_type": "stream",
     "text": [
      "1.7299999999999998x1 + -0.08000000000000002x2 + -0.27000000000000013\n",
      "1.7299999999999998x1 + -0.08000000000000002x2 + -0.27000000000000013\n",
      "1.7299999999999998 -0.08000000000000002 -0.27000000000000013 1\n"
     ]
    }
   ],
   "source": [
    "w1, w2, b, updates = update_weights(0.01, [[1,4], [3,5]], [0,1], w1, w2, b)\n",
    "print(w1, w2, b, updates)"
   ]
  },
  {
   "cell_type": "code",
   "execution_count": 64,
   "id": "1eea87b2",
   "metadata": {},
   "outputs": [
    {
     "name": "stdout",
     "output_type": "stream",
     "text": [
      "1.7199999999999998x1 + -0.12000000000000002x2 + -0.28000000000000014\n",
      "1.7199999999999998x1 + -0.12000000000000002x2 + -0.28000000000000014\n",
      "1.7199999999999998 -0.12000000000000002 -0.28000000000000014 1\n"
     ]
    }
   ],
   "source": [
    "w1, w2, b, updates = update_weights(0.01, [[1,4], [3,5]], [0,1], w1, w2, b)\n",
    "print(w1, w2, b, updates)"
   ]
  },
  {
   "cell_type": "code",
   "execution_count": 65,
   "id": "beb6f303",
   "metadata": {},
   "outputs": [
    {
     "name": "stdout",
     "output_type": "stream",
     "text": [
      "1.7099999999999997x1 + -0.16000000000000003x2 + -0.29000000000000015\n",
      "1.7099999999999997x1 + -0.16000000000000003x2 + -0.29000000000000015\n",
      "1.7099999999999997 -0.16000000000000003 -0.29000000000000015 1\n"
     ]
    }
   ],
   "source": [
    "w1, w2, b, updates = update_weights(0.01, [[1,4], [3,5]], [0,1], w1, w2, b)\n",
    "print(w1, w2, b, updates)"
   ]
  },
  {
   "cell_type": "code",
   "execution_count": null,
   "id": "b9998aa5",
   "metadata": {},
   "outputs": [],
   "source": []
  }
 ],
 "metadata": {
  "kernelspec": {
   "display_name": "Python 3 (ipykernel)",
   "language": "python",
   "name": "python3"
  },
  "language_info": {
   "codemirror_mode": {
    "name": "ipython",
    "version": 3
   },
   "file_extension": ".py",
   "mimetype": "text/x-python",
   "name": "python",
   "nbconvert_exporter": "python",
   "pygments_lexer": "ipython3",
   "version": "3.10.12"
  }
 },
 "nbformat": 4,
 "nbformat_minor": 5
}
