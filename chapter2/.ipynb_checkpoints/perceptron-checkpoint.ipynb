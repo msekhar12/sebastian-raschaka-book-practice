{
 "cells": [
  {
   "cell_type": "code",
   "execution_count": 2,
   "id": "076a44a4-c992-4b3a-9895-de4444b6c75c",
   "metadata": {},
   "outputs": [],
   "source": [
    "import numpy as np\n",
    "import pandas as pd"
   ]
  },
  {
   "cell_type": "code",
   "execution_count": 3,
   "id": "2acc2fa1-8dbf-43dc-b5b9-673102c9b2a9",
   "metadata": {},
   "outputs": [
    {
     "data": {
      "text/plain": [
       "np.int64(30)"
      ]
     },
     "execution_count": 3,
     "metadata": {},
     "output_type": "execute_result"
    }
   ],
   "source": [
    "a1 = np.array([1, 2, 3,4])\n",
    "a2 = np.array([1,2,3,4])\n",
    "a1.dot(a2)"
   ]
  },
  {
   "cell_type": "code",
   "execution_count": 7,
   "id": "d59b1cb9-c204-4a10-8192-132916456219",
   "metadata": {},
   "outputs": [
    {
     "data": {
      "text/plain": [
       "array([30, 30, 30])"
      ]
     },
     "execution_count": 7,
     "metadata": {},
     "output_type": "execute_result"
    }
   ],
   "source": [
    "a1 = np.array([[1, 2, 3,4],[1, 2, 3,4],[1, 2, 3,4]])\n",
    "a2 = np.array([1,2,3,4])\n",
    "a1.dot(a2)"
   ]
  },
  {
   "cell_type": "markdown",
   "id": "1e523eb6-ffe0-4c8b-899d-f363cb548bab",
   "metadata": {},
   "source": [
    "# Perceptron Algorithm"
   ]
  },
  {
   "cell_type": "markdown",
   "id": "cfdce5a8-46f1-414d-837f-2e124dd3f023",
   "metadata": {},
   "source": [
    "* Positive label is represented as 1\n",
    "* Negative label is represented as 0\n",
    "* Target label is represented as $ y $ of size $n X 1$, where $n$ is the number of training examples\n",
    "* Input variables is represented by a matrix of size $ n X m $, where $ n $ is the number of rows/examples, and $m$ is the number of input variables\n",
    "* Weights matrix is represented as $W$ (of size $mX1$), where each variable's corresponding weight is represented as $w_i$\n",
    "* $b$ represents the bias unit\n",
    "\n",
    "## Algorithm\n",
    "\n",
    "$$w_i = w_i + \\Delta w_i$$\n",
    "$$b = b + \\Delta b$$\n",
    "\n",
    "$$\\Delta w_i = \\eta(y^{(j)} - \\hat y^{(j)}).x_i^{(j)}$$\n",
    "$$\\Delta b = \\eta(y^{(j)} - \\hat y^{(j)})$$\n",
    "Where: $$\\eta = \\text{Learning Rate}$$\n",
    "$$y^{(j)} = j^{th} \\text{ training instance}$$\n",
    "$$\\hat y^{(j)}) = \\text{predicted } j^{th} \\text{ training instance's label}$$\n",
    "\n",
    "**Prediction**\n",
    "$$z^{(j)} = W^T . X + b$$\n",
    "$$z^{(j)} \\ge 0 \\text{ Then } \\hat y^{(j)} = 1 \\text{ , else }\\hat y^{(j)} = 0$$"
   ]
  },
  {
   "cell_type": "markdown",
   "id": "cf3fcd81-96e4-4bcf-8e34-e489a55b1f36",
   "metadata": {},
   "source": [
    "Observe the following:\n",
    "* For each training instance, all weights are adjusted\n",
    "* The prediction is NOT made until all the weights are adjusted"
   ]
  },
  {
   "cell_type": "markdown",
   "id": "907f9f9f-a5ec-4ab9-8d32-19743e517b7f",
   "metadata": {},
   "source": [
    "## Example\n",
    "Assume that we have the following data"
   ]
  },
  {
   "cell_type": "code",
   "execution_count": 11,
   "id": "1fcc53ce-a809-4fee-84e8-8028d42804e5",
   "metadata": {},
   "outputs": [
    {
     "data": {
      "text/html": [
       "<div>\n",
       "<style scoped>\n",
       "    .dataframe tbody tr th:only-of-type {\n",
       "        vertical-align: middle;\n",
       "    }\n",
       "\n",
       "    .dataframe tbody tr th {\n",
       "        vertical-align: top;\n",
       "    }\n",
       "\n",
       "    .dataframe thead th {\n",
       "        text-align: right;\n",
       "    }\n",
       "</style>\n",
       "<table border=\"1\" class=\"dataframe\">\n",
       "  <thead>\n",
       "    <tr style=\"text-align: right;\">\n",
       "      <th></th>\n",
       "      <th>x1</th>\n",
       "      <th>x2</th>\n",
       "      <th>y</th>\n",
       "    </tr>\n",
       "  </thead>\n",
       "  <tbody>\n",
       "    <tr>\n",
       "      <th>0</th>\n",
       "      <td>3.0</td>\n",
       "      <td>1.0</td>\n",
       "      <td>1</td>\n",
       "    </tr>\n",
       "    <tr>\n",
       "      <th>1</th>\n",
       "      <td>4.0</td>\n",
       "      <td>1.0</td>\n",
       "      <td>1</td>\n",
       "    </tr>\n",
       "    <tr>\n",
       "      <th>2</th>\n",
       "      <td>3.0</td>\n",
       "      <td>2.0</td>\n",
       "      <td>1</td>\n",
       "    </tr>\n",
       "    <tr>\n",
       "      <th>3</th>\n",
       "      <td>4.0</td>\n",
       "      <td>3.0</td>\n",
       "      <td>1</td>\n",
       "    </tr>\n",
       "    <tr>\n",
       "      <th>4</th>\n",
       "      <td>5.0</td>\n",
       "      <td>4.0</td>\n",
       "      <td>1</td>\n",
       "    </tr>\n",
       "    <tr>\n",
       "      <th>5</th>\n",
       "      <td>1.5</td>\n",
       "      <td>2.0</td>\n",
       "      <td>0</td>\n",
       "    </tr>\n",
       "    <tr>\n",
       "      <th>6</th>\n",
       "      <td>1.5</td>\n",
       "      <td>4.0</td>\n",
       "      <td>0</td>\n",
       "    </tr>\n",
       "    <tr>\n",
       "      <th>7</th>\n",
       "      <td>2.0</td>\n",
       "      <td>4.0</td>\n",
       "      <td>0</td>\n",
       "    </tr>\n",
       "    <tr>\n",
       "      <th>8</th>\n",
       "      <td>3.0</td>\n",
       "      <td>4.5</td>\n",
       "      <td>0</td>\n",
       "    </tr>\n",
       "    <tr>\n",
       "      <th>9</th>\n",
       "      <td>2.0</td>\n",
       "      <td>5.0</td>\n",
       "      <td>0</td>\n",
       "    </tr>\n",
       "  </tbody>\n",
       "</table>\n",
       "</div>"
      ],
      "text/plain": [
       "    x1   x2  y\n",
       "0  3.0  1.0  1\n",
       "1  4.0  1.0  1\n",
       "2  3.0  2.0  1\n",
       "3  4.0  3.0  1\n",
       "4  5.0  4.0  1\n",
       "5  1.5  2.0  0\n",
       "6  1.5  4.0  0\n",
       "7  2.0  4.0  0\n",
       "8  3.0  4.5  0\n",
       "9  2.0  5.0  0"
      ]
     },
     "execution_count": 11,
     "metadata": {},
     "output_type": "execute_result"
    }
   ],
   "source": [
    "x1 = [3,4,3,4,5,1.5,1.5,2,3,2]\n",
    "x2 = [1,1,2,3,4,2,4,4,4.5,5]\n",
    "y = [1,1,1,1,1,0,0,0,0,0]\n",
    "data = pd.DataFrame({'x1':x1,'x2':x2, 'y': y})\n",
    "data"
   ]
  },
  {
   "cell_type": "code",
   "execution_count": 16,
   "id": "2ede20ff-e169-4c53-bc87-ccd49a3f356b",
   "metadata": {},
   "outputs": [
    {
     "data": {
      "image/png": "[encoded data removed]",
      "text/plain": [
       "<Figure size 640x480 with 1 Axes>"
      ]
     },
     "metadata": {},
     "output_type": "display_data"
    }
   ],
   "source": [
    "ax = data.plot.scatter(x='x1',y='x2')\n",
    "data[['x1','x2','y']].apply(lambda row: ax.text(*row),axis=1);"
   ]
  },
  {
   "cell_type": "code",
   "execution_count": 155,
   "id": "66b37f08-9c9b-4679-8ea9-6d0619e9cf32",
   "metadata": {},
   "outputs": [],
   "source": [
    "# Algorithm implementation\n",
    "\n",
    "class Perceptron:\n",
    "    def __init__(self, eta = 0.01, n_iter = 50, random_state=1):\n",
    "        self.eta = eta\n",
    "        self.n_iter = n_iter\n",
    "        self.random_state = random_state\n",
    "\n",
    "    def fit(self, X, y):\n",
    "        rgen = np.random.RandomState(self.random_state)\n",
    "        self.w_ = rgen.normal(loc=0.0, scale=0.01, size=X.shape[1])\n",
    "        self.b_ = np.float64(0)\n",
    "        # Comment/uncomment the code to check how the model changes.\n",
    "        # self.w_ = np.zeros(X.shape[1])\n",
    "        # self.b_ = np.float64(0)\n",
    "        # self.w_ = np.array([1.0,2.0])\n",
    "        # self.b_ = np.float64(1.0)\n",
    "        # self.w_ = np.array([10.0,20.0])\n",
    "        # self.b_ = np.float64(10.0)\n",
    "        self.errors_ = []\n",
    "        # example: w: [ 0.01624345 -0.00611756]\n",
    "        # b: 0.0\n",
    "        print(\"Initial Values for weigths and bias:\")\n",
    "        print(f\"w: {self.w_}\")\n",
    "        print(f\"b: {self.b_}\")\n",
    "\n",
    "        for _ in range(self.n_iter):\n",
    "            errors = 0\n",
    "            for xi, target in zip(X.values, y):\n",
    "                # print(xi)\n",
    "                # print(target)\n",
    "                # print(f\"eta: {self.eta}\")\n",
    "                # print(f\"xi: {xi}\")\n",
    "                # print(f\"predict: {self.predict(xi)}\")\n",
    "                # print(f\"target: {target}\")\n",
    "                update = self.eta * (target - self.predict(xi))\n",
    "                self.w_ += update * xi\n",
    "                self.b_ += update\n",
    "                errors += int(update != 0.0)\n",
    "            self.errors_.append(errors)\n",
    "            print(f\"Weights: {self.w_}, bias: {self.b_}\")\n",
    "        return self\n",
    "\n",
    "    def net_input(self, X):\n",
    "        return np.dot(X, self.w_) + self.b_\n",
    "\n",
    "    def predict(self, X):\n",
    "        return np.where(self.net_input(X) >= 0.0, 1, 0)\n",
    "\n",
    "        "
   ]
  },
  {
   "cell_type": "code",
   "execution_count": 176,
   "id": "a4983390-d87f-462f-96e6-1f7bd8bce468",
   "metadata": {},
   "outputs": [
    {
     "name": "stdout",
     "output_type": "stream",
     "text": [
      "Initial Values for weigths and bias:\n",
      "w: [-0.01749765  0.0034268 ]\n",
      "b: 0.0\n",
      "Weights: [-0.00249765 -0.0065732 ], bias: 0.0\n",
      "Weights: [ 0.01250235 -0.0165732 ], bias: 0.0\n",
      "Weights: [ 0.03250235 -0.0365732 ], bias: -0.01\n",
      "Weights: [ 0.03250235 -0.0365732 ], bias: -0.01\n",
      "Weights: [ 0.03250235 -0.0365732 ], bias: -0.01\n",
      "Weights: [ 0.03250235 -0.0365732 ], bias: -0.01\n",
      "Weights: [ 0.03250235 -0.0365732 ], bias: -0.01\n",
      "Weights: [ 0.03250235 -0.0365732 ], bias: -0.01\n",
      "Weights: [ 0.03250235 -0.0365732 ], bias: -0.01\n",
      "Weights: [ 0.03250235 -0.0365732 ], bias: -0.01\n",
      "Weights: [ 0.03250235 -0.0365732 ], bias: -0.01\n",
      "Weights: [ 0.03250235 -0.0365732 ], bias: -0.01\n",
      "Weights: [ 0.03250235 -0.0365732 ], bias: -0.01\n",
      "Weights: [ 0.03250235 -0.0365732 ], bias: -0.01\n",
      "Weights: [ 0.03250235 -0.0365732 ], bias: -0.01\n",
      "Weights: [ 0.03250235 -0.0365732 ], bias: -0.01\n",
      "Weights: [ 0.03250235 -0.0365732 ], bias: -0.01\n",
      "Weights: [ 0.03250235 -0.0365732 ], bias: -0.01\n",
      "Weights: [ 0.03250235 -0.0365732 ], bias: -0.01\n",
      "Weights: [ 0.03250235 -0.0365732 ], bias: -0.01\n",
      "Weights: [ 0.03250235 -0.0365732 ], bias: -0.01\n",
      "Weights: [ 0.03250235 -0.0365732 ], bias: -0.01\n",
      "Weights: [ 0.03250235 -0.0365732 ], bias: -0.01\n",
      "Weights: [ 0.03250235 -0.0365732 ], bias: -0.01\n",
      "Weights: [ 0.03250235 -0.0365732 ], bias: -0.01\n",
      "Weights: [ 0.03250235 -0.0365732 ], bias: -0.01\n",
      "Weights: [ 0.03250235 -0.0365732 ], bias: -0.01\n",
      "Weights: [ 0.03250235 -0.0365732 ], bias: -0.01\n",
      "Weights: [ 0.03250235 -0.0365732 ], bias: -0.01\n",
      "Weights: [ 0.03250235 -0.0365732 ], bias: -0.01\n",
      "Weights: [ 0.03250235 -0.0365732 ], bias: -0.01\n",
      "Weights: [ 0.03250235 -0.0365732 ], bias: -0.01\n",
      "Weights: [ 0.03250235 -0.0365732 ], bias: -0.01\n",
      "Weights: [ 0.03250235 -0.0365732 ], bias: -0.01\n",
      "Weights: [ 0.03250235 -0.0365732 ], bias: -0.01\n",
      "Weights: [ 0.03250235 -0.0365732 ], bias: -0.01\n",
      "Weights: [ 0.03250235 -0.0365732 ], bias: -0.01\n",
      "Weights: [ 0.03250235 -0.0365732 ], bias: -0.01\n",
      "Weights: [ 0.03250235 -0.0365732 ], bias: -0.01\n",
      "Weights: [ 0.03250235 -0.0365732 ], bias: -0.01\n",
      "Weights: [ 0.03250235 -0.0365732 ], bias: -0.01\n",
      "Weights: [ 0.03250235 -0.0365732 ], bias: -0.01\n",
      "Weights: [ 0.03250235 -0.0365732 ], bias: -0.01\n",
      "Weights: [ 0.03250235 -0.0365732 ], bias: -0.01\n",
      "Weights: [ 0.03250235 -0.0365732 ], bias: -0.01\n",
      "Weights: [ 0.03250235 -0.0365732 ], bias: -0.01\n",
      "Weights: [ 0.03250235 -0.0365732 ], bias: -0.01\n",
      "Weights: [ 0.03250235 -0.0365732 ], bias: -0.01\n",
      "Weights: [ 0.03250235 -0.0365732 ], bias: -0.01\n",
      "Weights: [ 0.03250235 -0.0365732 ], bias: -0.01\n"
     ]
    },
    {
     "data": {
      "text/plain": [
       "<__main__.Perceptron at 0x7fea9c23bc10>"
      ]
     },
     "execution_count": 176,
     "metadata": {},
     "output_type": "execute_result"
    }
   ],
   "source": [
    "p = Perceptron(random_state=100)\n",
    "p.fit(data[['x1','x2']], data['y'])"
   ]
  },
  {
   "cell_type": "code",
   "execution_count": 177,
   "id": "9438dfb2-6bee-4d90-9640-9baa8ca75820",
   "metadata": {},
   "outputs": [
    {
     "data": {
      "text/plain": [
       "array([ 0.03250235, -0.0365732 ])"
      ]
     },
     "execution_count": 177,
     "metadata": {},
     "output_type": "execute_result"
    }
   ],
   "source": [
    "p.w_"
   ]
  },
  {
   "cell_type": "code",
   "execution_count": 178,
   "id": "518238c4-bfd5-410d-a084-2c4187ecb581",
   "metadata": {},
   "outputs": [
    {
     "data": {
      "text/plain": [
       "np.float64(-0.01)"
      ]
     },
     "execution_count": 178,
     "metadata": {},
     "output_type": "execute_result"
    }
   ],
   "source": [
    "p.b_"
   ]
  },
  {
   "cell_type": "code",
   "execution_count": 186,
   "id": "e9a74dc6-bbea-4959-bbf4-486473aa03ca",
   "metadata": {},
   "outputs": [
    {
     "name": "stdout",
     "output_type": "stream",
     "text": [
      "[2, 2, 3, 0, 0, 0, 0, 0, 0, 0, 0, 0, 0, 0, 0, 0, 0, 0, 0, 0, 0, 0, 0, 0, 0, 0, 0, 0, 0, 0, 0, 0, 0, 0, 0, 0, 0, 0, 0, 0, 0, 0, 0, 0, 0, 0, 0, 0, 0, 0]\n"
     ]
    }
   ],
   "source": [
    "print(p.errors_)"
   ]
  },
  {
   "cell_type": "code",
   "execution_count": 180,
   "id": "8d334727-7c7d-4396-bb4b-9c35221ddbdd",
   "metadata": {},
   "outputs": [
    {
     "data": {
      "text/plain": [
       "array([1, 1, 1, 1, 1, 0, 0, 0, 0, 0])"
      ]
     },
     "execution_count": 180,
     "metadata": {},
     "output_type": "execute_result"
    }
   ],
   "source": [
    "p.predict(data[['x1','x2']].values)"
   ]
  },
  {
   "cell_type": "code",
   "execution_count": 181,
   "id": "6c1b2c84-b550-438b-aa05-311764dba118",
   "metadata": {},
   "outputs": [
    {
     "data": {
      "text/plain": [
       "array([ 0.03250235, -0.0365732 ])"
      ]
     },
     "execution_count": 181,
     "metadata": {},
     "output_type": "execute_result"
    }
   ],
   "source": [
    "p.w_"
   ]
  },
  {
   "cell_type": "code",
   "execution_count": 182,
   "id": "4347b29e-569e-422f-a675-4265608d57e3",
   "metadata": {},
   "outputs": [],
   "source": [
    "x1 = range(0,6)\n",
    "x2 = [(p.w_[0] * x + p.b_)/(-p.w_[1]) for x in x1]"
   ]
  },
  {
   "cell_type": "code",
   "execution_count": 183,
   "id": "078f674c-a300-4a75-b55a-0dfaba61e32a",
   "metadata": {},
   "outputs": [
    {
     "data": {
      "text/plain": [
       "range(0, 6)"
      ]
     },
     "execution_count": 183,
     "metadata": {},
     "output_type": "execute_result"
    }
   ],
   "source": [
    "x1"
   ]
  },
  {
   "cell_type": "code",
   "execution_count": 184,
   "id": "e9ee2d88-70cb-4543-a7a5-dcd530204611",
   "metadata": {},
   "outputs": [
    {
     "data": {
      "text/plain": [
       "[np.float64(-0.273424286165699),\n",
       " np.float64(0.6152687692354288),\n",
       " np.float64(1.5039618246365567),\n",
       " np.float64(2.392654880037685),\n",
       " np.float64(3.281347935438813),\n",
       " np.float64(4.17004099083994)]"
      ]
     },
     "execution_count": 184,
     "metadata": {},
     "output_type": "execute_result"
    }
   ],
   "source": [
    "x2"
   ]
  },
  {
   "cell_type": "code",
   "execution_count": 185,
   "id": "bdc78e44-9e8c-4c89-8b6e-eeb7af01d644",
   "metadata": {},
   "outputs": [
    {
     "data": {
      "text/plain": [
       "[<matplotlib.lines.Line2D at 0x7fea9cfda5b0>]"
      ]
     },
     "execution_count": 185,
     "metadata": {},
     "output_type": "execute_result"
    },
    {
     "data": {
      "image/png": "[encoded data removed]",
      "text/plain": [
       "<Figure size 640x480 with 1 Axes>"
      ]
     },
     "metadata": {},
     "output_type": "display_data"
    }
   ],
   "source": [
    "ax = data.plot.scatter(x='x1',y='x2')\n",
    "data[['x1','x2','y']].apply(lambda row: ax.text(*row),axis=1)\n",
    "ax.plot(x1,x2)"
   ]
  },
  {
   "cell_type": "code",
   "execution_count": null,
   "id": "96add9fb-54fb-4d4a-b81a-2f0ff6cc3b97",
   "metadata": {},
   "outputs": [],
   "source": []
  }
 ],
 "metadata": {
  "kernelspec": {
   "display_name": "Python 3 (ipykernel)",
   "language": "python",
   "name": "python3"
  },
  "language_info": {
   "codemirror_mode": {
    "name": "ipython",
    "version": 3
   },
   "file_extension": ".py",
   "mimetype": "text/x-python",
   "name": "python",
   "nbconvert_exporter": "python",
   "pygments_lexer": "ipython3",
   "version": "3.9.2"
  }
 },
 "nbformat": 4,
 "nbformat_minor": 5
}
